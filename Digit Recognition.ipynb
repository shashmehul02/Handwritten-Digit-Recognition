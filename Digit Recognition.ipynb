{
 "cells": [
  {
   "cell_type": "markdown",
   "metadata": {},
   "source": [
    "# Handwritten Digit Recognition using MNIST Dataset "
   ]
  },
  {
   "cell_type": "code",
   "execution_count": 1,
   "metadata": {},
   "outputs": [
    {
     "name": "stderr",
     "output_type": "stream",
     "text": [
      "Using TensorFlow backend.\n"
     ]
    },
    {
     "name": "stdout",
     "output_type": "stream",
     "text": [
      "Train: X=(60000, 28, 28), Y=(60000,)\n",
      "Test: X=(10000, 28, 28), Y=(10000,)\n"
     ]
    },
    {
     "data": {
      "text/plain": [
       "<Figure size 640x480 with 9 Axes>"
      ]
     },
     "metadata": {},
     "output_type": "display_data"
    }
   ],
   "source": [
    "import numpy as np\n",
    "import h5py\n",
    "from keras.datasets import mnist #dataset of 60K small square 60*60pixel grayscale images of handwritten digits\n",
    "from matplotlib import pyplot as plt\n",
    "#loading the dataset\n",
    "\n",
    "(trainx,trainy),(testx,testy)=mnist.load_data() #dataset available at amazonaws.com\n",
    "print('Train: X=%s, Y=%s' %(trainx.shape,trainy.shape))\n",
    "print('Test: X=%s, Y=%s' %(testx.shape,testy.shape))"
   ]
  },
  {
   "cell_type": "code",
   "execution_count": 2,
   "metadata": {},
   "outputs": [
    {
     "data": {
      "image/png": "[encoded data removed]",
      "text/plain": [
       "<Figure size 432x288 with 9 Axes>"
      ]
     },
     "metadata": {
      "needs_background": "light"
     },
     "output_type": "display_data"
    }
   ],
   "source": [
    "#plotting the first few images\n",
    "for i in range(9):\n",
    "    plt.subplot(331+i)\n",
    "    plt.imshow(trainx[i],cmap=plt.get_cmap('gray'))  #subplot(nrows, ncols, index, **kwargs)\n",
    "                                                     #subplot(pos, **kwargs)\n",
    "plt.show()"
   ]
  },
  {
   "cell_type": "code",
   "execution_count": 3,
   "metadata": {},
   "outputs": [],
   "source": [
    "#importing other required tools\n",
    "from keras.utils import to_categorical\n",
    "from keras.models import Sequential\n",
    "from keras.layers import Conv2D\n",
    "from keras.layers import MaxPooling2D\n",
    "from keras.layers import Dense\n",
    "from keras.layers import Flatten\n",
    "from keras.optimizers import SGD\n",
    "from keras.preprocessing.image import load_img\n",
    "from keras.preprocessing.image import img_to_array\n",
    "from keras.models import load_model\n",
    "from sklearn.model_selection import KFold"
   ]
  },
  {
   "cell_type": "code",
   "execution_count": 4,
   "metadata": {},
   "outputs": [
    {
     "data": {
      "text/plain": [
       "' 5 useful aspects of a machine learning model:\\n1.Loading of the dataset\\n2.Preparation of the dataset\\n3.Definition of the model\\n4.Evaluation of the model\\n5.Presentation of results\\n'"
      ]
     },
     "execution_count": 4,
     "metadata": {},
     "output_type": "execute_result"
    }
   ],
   "source": [
    "\"\"\" 5 useful aspects of a machine learning model:\n",
    "1.Loading of the dataset\n",
    "2.Preparation of the dataset\n",
    "3.Definition of the model\n",
    "4.Evaluation of the model\n",
    "5.Presentation of results\n",
    "\"\"\""
   ]
  },
  {
   "cell_type": "code",
   "execution_count": 5,
   "metadata": {},
   "outputs": [],
   "source": [
    "(trainx,trainy),(testx,testy)=mnist.load_data()\n",
    "trainx=trainx.reshape((trainx.shape[0],28,28,1))\n",
    "testx=testx.reshape((testx.shape[0],28,28,1))"
   ]
  },
  {
   "cell_type": "code",
   "execution_count": 6,
   "metadata": {},
   "outputs": [],
   "source": [
    "#one_hot encoding of labels\n",
    "trainy=to_categorical(trainy)\n",
    "testy=to_categorical(testy)"
   ]
  },
  {
   "cell_type": "code",
   "execution_count": 7,
   "metadata": {},
   "outputs": [],
   "source": [
    "#creating the function to load the dataset\n",
    "def load_dataset():\n",
    "    (trainx,trainy),(testx,testy)=mnist.load_data()\n",
    "    trainx=trainx.reshape((trainx.shape[0],28,28,1))\n",
    "    testx=testx.reshape((testx.shape[0],28,28,1))\n",
    "    trainy=to_categorical(trainy)\n",
    "    testy=to_categorical(testy)\n",
    "    return trainx,trainy,testx,testy"
   ]
  },
  {
   "cell_type": "code",
   "execution_count": 8,
   "metadata": {},
   "outputs": [],
   "source": [
    "#creating the function for the preparation of dataset\n",
    "def prep_dataset(train,test):\n",
    "    train_norm=train.astype('float32')\n",
    "    test_norm=test.astype('float32')\n",
    "    train_norm=train_norm/255.0\n",
    "    test_norm=test_norm/255.0\n",
    "    return train_norm,test_norm"
   ]
  },
  {
   "cell_type": "code",
   "execution_count": 9,
   "metadata": {},
   "outputs": [],
   "source": [
    "#creating the function to define the model\n",
    "def def_model():\n",
    "    model=Sequential()\n",
    "    model.add(Conv2D(32,(3,3),activation='relu',kernel_initializer='he_uniform',input_shape=(28,28,1)))\n",
    "    model.add(MaxPooling2D((2,2)))\n",
    "    model.add(Flatten())\n",
    "    model.add(Dense(100,activation='relu',kernel_initializer='he_uniform'))\n",
    "    model.add(Dense(10,activation='softmax'))\n",
    "    opt=SGD(lr=0.01,momentum=0.9)  #use of the stochastic grad desc\n",
    "    model.compile(optimizer=opt,loss='categorical_crossentropy',metrics=['accuracy'])\n",
    "    return model "
   ]
  },
  {
   "cell_type": "code",
   "execution_count": 10,
   "metadata": {},
   "outputs": [
    {
     "data": {
      "text/plain": [
       "'To do the evaluation we can use the k fold cross validation taking k=5 such that each test set will be approx 20%\\nof the total input dataset.K=5 is chosen so as to rather not be too large or be too big to take up a lot of time'"
      ]
     },
     "execution_count": 10,
     "metadata": {},
     "output_type": "execute_result"
    }
   ],
   "source": [
    "'''To do the evaluation we can use the k fold cross validation taking k=5 such that each test set will be approx 20%\n",
    "of the total input dataset.K=5 is chosen so as to rather not be too large or be too big to take up a lot of time'''"
   ]
  },
  {
   "cell_type": "code",
   "execution_count": 11,
   "metadata": {},
   "outputs": [],
   "source": [
    "#function to evaluate the model\n",
    "def eval_model(datax,datay,n_folds=5):\n",
    "    scores,histories=list(),list() # for keeping the statistics that will help to analyze the results\n",
    "    kfold=KFold(n_folds,shuffle=True,random_state=1)\n",
    "    #enumerate splits\n",
    "    for train_ix,test_ix in kfold.split(datax):\n",
    "        model=def_model()\n",
    "        trainx,trainy,testx,testy=datax[train_ix],datay[train_ix],datax[test_ix],datay[test_ix]\n",
    "        history=model.fit(trainx,trainy,epochs=10,batch_size=32,validation_data=(testx,testy),verbose=0)\n",
    "        _,acc=model.evaluate(testx,testy,verbose=0)\n",
    "        print('>%.3f ' %(acc*100.0))\n",
    "        scores.append(acc)\n",
    "        histories.append(history)\n",
    "    return scores,histories"
   ]
  },
  {
   "cell_type": "code",
   "execution_count": 12,
   "metadata": {},
   "outputs": [],
   "source": [
    "#function for analysis of results\n",
    "def analyze(histories):\n",
    "    for i in range(len(histories)):\n",
    "        plt.subplot(2,1,1)\n",
    "        plt.title('Cross Entropy Loss')\n",
    "        plt.plot(histories[i].history['loss'],color='blue',label='train')\n",
    "        plt.plot(histories[i].history['val_loss'],color='orange',label='test')\n",
    "                \n",
    "        plt.subplot(2,1,2)\n",
    "        plt.title('Classification Accuracy')\n",
    "        plt.plot(histories[i].history['accuracy'],color='blue',label='train')\n",
    "        plt.plot(histories[i].history['val_accuracy'],color='orange',label='test')\n",
    "    plt.show()"
   ]
  },
  {
   "cell_type": "code",
   "execution_count": 13,
   "metadata": {},
   "outputs": [],
   "source": [
    "#summarizing the performance\n",
    "def summary(scores):\n",
    "    print(\"accuracy: mean=%.3f std=%.3f,n=%d\" %(np.mean(scores)*100,np.std(scores)*100,len(scores)))\n",
    "    plt.boxplot(scores)\n",
    "    plt.show()"
   ]
  },
  {
   "cell_type": "code",
   "execution_count": 14,
   "metadata": {},
   "outputs": [],
   "source": [
    "#finalizing by calling all the functions\n",
    "def run():\n",
    "    trainx,trainy,testx,testy=load_dataset()\n",
    "    trainx,testx=prep_dataset(trainx,testx)\n",
    "    scores,histories=eval_model(trainx,trainy)\n",
    "    analyze(histories)\n",
    "    summary(scores)"
   ]
  },
  {
   "cell_type": "code",
   "execution_count": 15,
   "metadata": {},
   "outputs": [
    {
     "name": "stdout",
     "output_type": "stream",
     "text": [
      ">98.575 \n",
      ">98.750 \n",
      ">98.525 \n",
      ">98.758 \n",
      ">98.725 \n"
     ]
    },
    {
     "name": "stderr",
     "output_type": "stream",
     "text": [
      "C:\\Users\\hp\\Miniconda3\\lib\\site-packages\\ipykernel_launcher.py:4: MatplotlibDeprecationWarning: Adding an axes using the same arguments as a previous axes currently reuses the earlier instance.  In a future version, a new instance will always be created and returned.  Meanwhile, this warning can be suppressed, and the future behavior ensured, by passing a unique label to each axes instance.\n",
      "  after removing the cwd from sys.path.\n",
      "C:\\Users\\hp\\Miniconda3\\lib\\site-packages\\ipykernel_launcher.py:9: MatplotlibDeprecationWarning: Adding an axes using the same arguments as a previous axes currently reuses the earlier instance.  In a future version, a new instance will always be created and returned.  Meanwhile, this warning can be suppressed, and the future behavior ensured, by passing a unique label to each axes instance.\n",
      "  if __name__ == '__main__':\n"
     ]
    },
    {
     "data": {
      "image/png": "[encoded data removed]",
      "text/plain": [
       "<Figure size 432x288 with 2 Axes>"
      ]
     },
     "metadata": {
      "needs_background": "light"
     },
     "output_type": "display_data"
    },
    {
     "name": "stdout",
     "output_type": "stream",
     "text": [
      "accuracy: mean=98.667 std=0.097,n=5\n"
     ]
    },
    {
     "data": {
      "image/png": "[encoded data removed]",
      "text/plain": [
       "<Figure size 432x288 with 1 Axes>"
      ]
     },
     "metadata": {
      "needs_background": "light"
     },
     "output_type": "display_data"
    }
   ],
   "source": [
    "run()"
   ]
  },
  {
   "cell_type": "markdown",
   "metadata": {},
   "source": [
    "This project is hereby concluded."
   ]
  }
 ],
 "metadata": {
  "kernelspec": {
   "display_name": "Python 3",
   "language": "python",
   "name": "python3"
  },
  "language_info": {
   "codemirror_mode": {
    "name": "ipython",
    "version": 3
   },
   "file_extension": ".py",
   "mimetype": "text/x-python",
   "name": "python",
   "nbconvert_exporter": "python",
   "pygments_lexer": "ipython3",
   "version": "3.7.3"
  }
 },
 "nbformat": 4,
 "nbformat_minor": 2
}
